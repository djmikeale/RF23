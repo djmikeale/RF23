{
 "cells": [
  {
   "cell_type": "code",
   "execution_count": 53,
   "metadata": {},
   "outputs": [],
   "source": [
    "from selenium import webdriver\n",
    "from selenium.webdriver.common.by import By\n",
    "from selenium.common.exceptions import NoSuchElementException\n",
    "import time\n",
    "import csv\n",
    "\n",
    "\n",
    "# Launch Firefox using the web driver\n",
    "driver = webdriver.Firefox()\n"
   ]
  },
  {
   "cell_type": "code",
   "execution_count": 99,
   "metadata": {},
   "outputs": [],
   "source": [
    "# Navigate to the lineup website containing links to all artists\n",
    "driver.get(\"https://www.roskilde-festival.dk/da/line-up/\")\n",
    "\n",
    "# Find all the artist elements\n",
    "artist_elements = driver.find_elements(By.CSS_SELECTOR, \".item-inner a.name\")\n",
    "\n",
    "\n",
    "# initialize lists\n",
    "artist_href_list = []\n",
    "all_artist_info = []\n",
    "\n",
    "# append all artist URLs to list\n",
    "for artist_element in artist_elements:\n",
    "    href = artist_element.get_attribute(\"href\")\n",
    "    artist_href_list.append(href)"
   ]
  },
  {
   "cell_type": "code",
   "execution_count": 111,
   "metadata": {},
   "outputs": [],
   "source": [
    "# Iterate over the artist elements and extract the data\n",
    "for artist_href in artist_href_list:\n",
    "\n",
    "    # Go to artist page\n",
    "    driver.get(artist_href)\n",
    "\n",
    "    # Delay to make sure the page is loaded\n",
    "    time.sleep(1)\n",
    "\n",
    "    # get all relevant page elements, return blanks in case of bad data qual/page load errors\n",
    "    try:\n",
    "        country = driver.find_element(By.XPATH, '//h1//sup').text\n",
    "    except NoSuchElementException:\n",
    "        country = ''\n",
    "    try:\n",
    "        artist_name = driver.find_element(By.XPATH, '//h1').text.title()\n",
    "\n",
    "        # artist name contains country as well; remove country from string\n",
    "        if country != '':\n",
    "            artist_name = artist_name[:-len(country)-1]\n",
    "    except NoSuchElementException:\n",
    "        artist_name = ''    \n",
    "    try:\n",
    "        scene = driver.find_element(By.XPATH, '//div[@class=\"info\"]//div[@class=\"block\"]').text.replace ('Scene\\n', '')\n",
    "    except NoSuchElementException:\n",
    "        scene = ''    \n",
    "    try:\n",
    "        showdate = driver.find_element(By.XPATH, '//div[@class=\"info\"]//span').text\n",
    "    except NoSuchElementException:\n",
    "        showdate = ''    \n",
    "    try:\n",
    "        instagram = driver.find_element(By.XPATH, '//a[@title=\"Instagram\"]').get_attribute('href')\n",
    "    except NoSuchElementException:\n",
    "        instagram = ''    \n",
    "    try:\n",
    "        spotify = driver.find_element(By.XPATH, '//a[@title=\"Spotify\"]').get_attribute('href')\n",
    "    except NoSuchElementException:\n",
    "        spotify = ''    \n",
    "\n",
    "    # write to list\n",
    "    artist_info = [artist_name,artist_href,country,scene,showdate,instagram,spotify]\n",
    "    # append list to list \n",
    "    all_artist_info.append(artist_info)"
   ]
  },
  {
   "cell_type": "code",
   "execution_count": 112,
   "metadata": {},
   "outputs": [],
   "source": [
    "# write list of lists to file\n",
    "with open('output.csv', 'w', newline='') as file:\n",
    "    writer = csv.writer(file)\n",
    "    for row in all_artist_info:\n",
    "        writer.writerow(row)"
   ]
  },
  {
   "cell_type": "code",
   "execution_count": 52,
   "metadata": {},
   "outputs": [],
   "source": [
    "# Close the web browser\n",
    "driver.quit()"
   ]
  }
 ],
 "metadata": {
  "kernelspec": {
   "display_name": "venv",
   "language": "python",
   "name": "python3"
  },
  "language_info": {
   "codemirror_mode": {
    "name": "ipython",
    "version": 3
   },
   "file_extension": ".py",
   "mimetype": "text/x-python",
   "name": "python",
   "nbconvert_exporter": "python",
   "pygments_lexer": "ipython3",
   "version": "3.10.6"
  },
  "orig_nbformat": 4
 },
 "nbformat": 4,
 "nbformat_minor": 2
}
