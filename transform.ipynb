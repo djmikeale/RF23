{
 "cells": [
  {
   "cell_type": "code",
   "execution_count": 44,
   "metadata": {},
   "outputs": [],
   "source": [
    "import pandas as pd\n",
    "from ics import Calendar, Event, DisplayAlarm\n",
    "from datetime import datetime, timedelta\n",
    "\n",
    "# read scraped output\n",
    "df = pd.read_csv(\"output.csv\", names=[\"url\",\"artist_country\",\"artist\",\"location\",\"date_string\",\"insta\",\"spotify\"])\n",
    "\n",
    "# read ratings and comments from google sheet\n",
    "SHEET_ID = '1uu3_S_e2zR5O2cTbknIUh4bG1GymBtdwieFwZynTPRY'\n",
    "SHEET_NAME = 'transform'\n",
    "url = f'https://docs.google.com/spreadsheets/d/{SHEET_ID}/gviz/tq?tqx=out:csv&sheet={SHEET_NAME}'\n",
    "df_ratings = pd.read_csv(url,usecols=['🧑‍🎤 artist 👩‍🎤','⭐ Mikael rating','⭐ Line rating','💭 comment'])\n",
    "\n",
    "# rename\n",
    "df_ratings = df_ratings.rename(columns={'🧑‍🎤 artist 👩‍🎤':'artist','⭐ Mikael rating':'m_rating','⭐ Line rating':'l_rating','💭 comment':'comment'})"
   ]
  },
  {
   "cell_type": "code",
   "execution_count": 45,
   "metadata": {},
   "outputs": [],
   "source": [
    "# join website info with ratings \n",
    "df = df.join(df_ratings, how='outer', lsuffix='_left', rsuffix='_right')\n"
   ]
  },
  {
   "cell_type": "code",
   "execution_count": 46,
   "metadata": {},
   "outputs": [],
   "source": [
    "# Extract day, month, and year into separate columns\n",
    "#df[['day', 'month', 'year']] = df['date_string'].str.extract(r'(\\d{1,2})\\.\\s*(\\w+)\\s*(\\d{4})')\n",
    "df['start_time'] = df['date_string'].str.extract(r'(\\d{2}:\\d{2})')\n",
    "\n",
    "df['new_date_string'] = df['date_string'].replace(to_replace=r'.*dag (\\d{1,2})\\. (\\w{3})\\w', value=r'\\1 \\2', regex=True)\n",
    "date_format = '%d %b %Y'\n",
    "\n",
    "# Convert the date string to datetime format for ical\n",
    "df['datetime'] = pd.to_datetime(df['new_date_string'], format=date_format)\n",
    "\n",
    "## todo handle time of day for ical. Example below\n",
    "# df[['date_string','new_date_string','datetime']][135:].head()"
   ]
  },
  {
   "cell_type": "code",
   "execution_count": 48,
   "metadata": {},
   "outputs": [
    {
     "name": "stderr",
     "output_type": "stream",
     "text": [
      "/Users/mikaelthorup/repos/RF23/venv/lib/python3.10/site-packages/ics/component.py:85: FutureWarning: Behaviour of str(Component) will change in version 0.9 to only return a short description, NOT the ics representation. Use the explicit Component.serialize() to get the ics representation.\n",
      "  warnings.warn(\n"
     ]
    }
   ],
   "source": [
    "from datetime import datetime, timedelta\n",
    "# write most important concerts to ical\n",
    "c = Calendar()\n",
    "for index, row in df[df['m_rating'] == '🤯JA!'].iterrows():\n",
    "    e = Event()\n",
    "    e.name = row['artist_left']\n",
    "    e.begin = row['datetime']\n",
    "    e.description = 'description_test'\n",
    "    e.location = 'location_test'\n",
    "    a=DisplayAlarm()\n",
    "    a.trigger=timedelta(seconds=1)\n",
    "    a.display_text=\" tide alert!\"\n",
    "    e.alarms=[a]\n",
    "    c.events.add(e)\n",
    "\n",
    "# c.events\n",
    "with open('most_important.ics', 'w') as my_file:\n",
    "    my_file.writelines(c.serialize_iter())\n"
   ]
  },
  {
   "cell_type": "markdown",
   "metadata": {},
   "source": [
    "import pandas as pd\n",
    "from ics import Calendar, Event, DisplayAlarm\n",
    "\n",
    "# Create a DataFrame with some events\n",
    "df = pd.DataFrame({\n",
    "    'name': ['Event 1', 'Event 2', 'Event 3'],\n",
    "    'start': ['2022-05-01 10:00:00', '2022-05-02 14:30:00', '2022-05-03 18:00:00'],\n",
    "    'end': ['2022-05-01 11:30:00', '2022-05-02 16:00:00', '2022-05-03 20:00:00'],\n",
    "    'description': ['Description 1', 'Description 2', 'Description 3'],\n",
    "    'location': ['Location 1', 'Location 2', 'Location 3']\n",
    "})\n",
    "\n",
    "# Create a Calendar object\n",
    "c = Calendar()\n",
    "\n",
    "# Iterate over the rows of the DataFrame and add each event to the Calendar\n",
    "for index, row in df.iterrows():\n",
    "    e = Event()\n",
    "    e.name = row['name']\n",
    "    e.begin = row['start']\n",
    "    e.end = row['end']\n",
    "    e.description = row['description']\n",
    "    e.location = row['location']\n",
    "    a = DisplayAlarm()\n",
    "    a.trigger = '-PT10M'  # 10 minutes before the event\n",
    "    a.action = 'DISPLAY'\n",
    "    e.alarms.add(a)\n",
    "    c.events.add(e)\n",
    "\n",
    "# Write the Calendar to an ICS file\n",
    "with open('my.ics', 'w') as my_file:\n",
    "    my_file.writelines(c.serialize())\n",
    "\n",
    "print('Events written to my.ics')\n"
   ]
  },
  {
   "cell_type": "markdown",
   "metadata": {},
   "source": [
    "from ics import Calendar\n",
    "\n",
    "with open('test.ics', 'r') as my_file:\n",
    "    calendar_str = my_file.read()\n",
    "calendar = Calendar(calendar_str)\n",
    "\n",
    "for event in calendar.events:\n",
    "    print(event.name)\n",
    "    print(event.begin)\n",
    "    print(event.end)\n",
    "    print(event.description)\n",
    "    print(event.location)\n",
    "    for alarm in event.alarms:\n",
    "        print(alarm.trigger)\n"
   ]
  }
 ],
 "metadata": {
  "kernelspec": {
   "display_name": "venv",
   "language": "python",
   "name": "python3"
  },
  "language_info": {
   "codemirror_mode": {
    "name": "ipython",
    "version": 3
   },
   "file_extension": ".py",
   "mimetype": "text/x-python",
   "name": "python",
   "nbconvert_exporter": "python",
   "pygments_lexer": "ipython3",
   "version": "3.10.6"
  },
  "orig_nbformat": 4
 },
 "nbformat": 4,
 "nbformat_minor": 2
}
