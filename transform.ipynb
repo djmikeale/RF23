{
 "cells": [
  {
   "cell_type": "code",
   "execution_count": 132,
   "metadata": {},
   "outputs": [],
   "source": [
    "import pandas as pd\n",
    "from ics import Calendar, Event, DisplayAlarm\n",
    "from datetime import datetime, timedelta\n",
    "\n",
    "# read scraped output\n",
    "df = pd.read_csv(\"output.csv\", names=[\"url\",\"artist_country\",\"artist\",\"location\",\"date_string\",\"insta\",\"spotify\"])\n",
    "df = df.set_index('artist')\n",
    "\n",
    "# read ratings and comments from google sheet\n",
    "SHEET_ID = '1uu3_S_e2zR5O2cTbknIUh4bG1GymBtdwieFwZynTPRY'\n",
    "SHEET_NAME = 'transform'\n",
    "url = f'https://docs.google.com/spreadsheets/d/{SHEET_ID}/gviz/tq?tqx=out:csv&sheet={SHEET_NAME}'\n",
    "df_ratings = pd.read_csv(url,usecols=['🧑‍🎤 artist 👩‍🎤','⭐ Mikael rating','⭐ Line rating','💭 comment'])\n",
    "\n",
    "# rename\n",
    "df_ratings = df_ratings.rename(columns={'🧑‍🎤 artist 👩‍🎤':'artist','⭐ Mikael rating':'m_rating','⭐ Line rating':'l_rating','💭 comment':'comment'})\n",
    "df_ratings = df_ratings.set_index('artist')\n",
    "df_ratings[['comment', 'm_rating','l_rating']] = df_ratings[['comment', 'm_rating','l_rating']].fillna(' ')\n",
    "\n"
   ]
  },
  {
   "cell_type": "code",
   "execution_count": 133,
   "metadata": {},
   "outputs": [],
   "source": [
    "# join website info with ratings  \n",
    "df = df.join(df_ratings, how='outer', lsuffix='_left', rsuffix='_right')\n"
   ]
  },
  {
   "cell_type": "code",
   "execution_count": null,
   "metadata": {},
   "outputs": [],
   "source": [
    "# get starttime, fill nulls with timestamp 13:37\n",
    "df['start_time'] = df['date_string'].str.extract(r'(\\d{2}:\\d{2})').fillna('13:37')\n",
    "\n",
    "\n",
    "# strip irrelevant locale information; could probably be made redundant\n",
    "df['new_date_string'] = df['date_string'].replace(to_replace=r'.*dag (\\d{1,2})\\. (\\w{3})\\w', value=r'\\1\\2', regex=True)\n",
    "\n",
    "# convert to timestamp w timezone; ics package needs utc input\n",
    "df['start_datetime'] = pd.to_datetime(df['new_date_string'] + df['start_time'], format='%d%b %Y%H:%M').dt.tz_localize('CET')\n",
    "\n",
    "## todo handle time of day for ical. Example below\n",
    "df[['date_string','start_datetime']][135:].head()"
   ]
  },
  {
   "cell_type": "code",
   "execution_count": 136,
   "metadata": {},
   "outputs": [],
   "source": [
    "#df['location'].unique()\n",
    "stages = {\n",
    "    'Orange': '🟠 Orange',\n",
    "    'Arena': '🎪 Arena',\n",
    "    'Avalon': '🏝️ Avalon',\n",
    "    'TBA': '❔ TBA',\n",
    "    'Platform': 'Platform',\n",
    "    'Gloria': '🏝️ Gloria',\n",
    "    'Apollo': '🚀 Apollo',\n",
    "    'Festival Site': '🏟️ Festival Site',\n",
    "    'Campsite': '⛺ Campsite',\n",
    "    'Destroy Me Once, Destroy Me Twice': '☠️ Destroy Me Once, Destroy Me Twice',\n",
    "    'Flokkr': '📣 Flokkr',\n",
    "    'Food Is Now': '🥫 Food Is Now'}\n",
    "\n",
    "df['location'] = df['location'].map(stages)"
   ]
  },
  {
   "cell_type": "code",
   "execution_count": null,
   "metadata": {},
   "outputs": [],
   "source": [
    "# write most important concerts to ical\n",
    "c = Calendar()\n",
    "for index, row in df[(df['m_rating'] == '🤯JA!') | (df['m_rating'] == '👍Ja' )].iterrows():\n",
    "    e = Event()\n",
    "\n",
    "    abbreviated_comment = ' | ' + row['comment'] if len(row['comment']) > 1 else ''\n",
    "    line_rating = ' | L: ' + row['l_rating'][0] if len(row['l_rating']) > 1 else ''\n",
    "\n",
    "    e.name = row['m_rating'][0] + \" \" + index + line_rating\n",
    "    e.begin = row['start_datetime']\n",
    "    e.end = row['start_datetime'] + timedelta(hours=1) # assume all concerts are 1 hour\n",
    "    e.url = row['url']\n",
    "    e.description = \"▶️ \" + row['spotify']\n",
    "    e.location = row['location'] + abbreviated_comment\n",
    "    a=DisplayAlarm()\n",
    "    a.trigger=timedelta(hours=-1)\n",
    "    e.alarms=[a]\n",
    "    c.events.add(e)\n",
    "\n",
    "# c.events\n",
    "with open('most_important.ics', 'w') as my_file:\n",
    "    my_file.writelines(c.serialize_iter())\n"
   ]
  }
 ],
 "metadata": {
  "kernelspec": {
   "display_name": "venv",
   "language": "python",
   "name": "python3"
  },
  "language_info": {
   "codemirror_mode": {
    "name": "ipython",
    "version": 3
   },
   "file_extension": ".py",
   "mimetype": "text/x-python",
   "name": "python",
   "nbconvert_exporter": "python",
   "pygments_lexer": "ipython3",
   "version": "3.10.6"
  },
  "orig_nbformat": 4
 },
 "nbformat": 4,
 "nbformat_minor": 2
}
