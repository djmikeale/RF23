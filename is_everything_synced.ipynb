{
 "cells": [
  {
   "cell_type": "code",
   "execution_count": null,
   "metadata": {},
   "outputs": [],
   "source": [
    "import pandas as pd\n",
    "\n",
    "# read artists listed online\n",
    "df_artists_on_web = pd.read_csv(\"artists_on_web.csv\", names=[\"url\"])\n",
    "\n",
    "# read scraped output\n",
    "df_scraped = pd.read_csv(\"output.csv\", names=[\"artist\",\"url\",\"artist_country\",\"location\",\"date_string\",\"insta\",\"spotify\",\"rf_short_description\"])\n",
    "\n",
    "# read urls from google sheet\n",
    "SHEET_ID = '1uu3_S_e2zR5O2cTbknIUh4bG1GymBtdwieFwZynTPRY'\n",
    "SHEET_NAME = 'transform'\n",
    "url = f'https://docs.google.com/spreadsheets/d/{SHEET_ID}/gviz/tq?tqx=out:csv&sheet={SHEET_NAME}'\n",
    "df_ratings = pd.read_csv(url,usecols=['url'])"
   ]
  },
  {
   "cell_type": "code",
   "execution_count": null,
   "metadata": {},
   "outputs": [],
   "source": [
    "merged_df = pd.merge(df_scraped, df_ratings, on=\"url\", how=\"outer\", indicator=True)\n",
    "\n",
    "# filter out the artists that only exist in one dataset\n",
    "only_in_df1 = merged_df[merged_df[\"_merge\"]==\"left_only\"][\"artist\"]\n",
    "only_in_df2 = merged_df[merged_df[\"_merge\"]==\"right_only\"][\"artist\"]\n",
    "\n",
    "# print the results\n",
    "print(\"Artists only in local dataset:\", only_in_df1.tolist())\n",
    "print(\"Artists only in google sheets dataset:\", only_in_df2.tolist())"
   ]
  },
  {
   "cell_type": "code",
   "execution_count": null,
   "metadata": {},
   "outputs": [],
   "source": [
    "merged_df = pd.merge(df_scraped, df_artists_on_web, on=\"url\", how=\"outer\", indicator=True)\n",
    "\n",
    "# filter out the artists that only exist in one dataset\n",
    "only_in_df1 = merged_df[merged_df[\"_merge\"]==\"left_only\"][\"artist\"]\n",
    "only_in_df2 = merged_df[merged_df[\"_merge\"]==\"right_only\"][\"artist\"]\n",
    "\n",
    "# print the results\n",
    "print(\"Artists only in local dataset:\", only_in_df1.tolist())\n",
    "print(\"Artists only online:\", only_in_df2.tolist())"
   ]
  },
  {
   "cell_type": "code",
   "execution_count": null,
   "metadata": {},
   "outputs": [],
   "source": [
    "df_to_be_added_online = df_scraped[~df_scraped['url'].isin(df_ratings['url'])]\n",
    "df_to_be_added_online.to_clipboard(excel=True, sep=None, index=False, header=None)"
   ]
  },
  {
   "attachments": {},
   "cell_type": "markdown",
   "metadata": {},
   "source": [
    "# any newly added artists should be manually pasted into the google sheet ✌️"
   ]
  }
 ],
 "metadata": {
  "kernelspec": {
   "display_name": "venv",
   "language": "python",
   "name": "python3"
  },
  "language_info": {
   "codemirror_mode": {
    "name": "ipython",
    "version": 3
   },
   "file_extension": ".py",
   "mimetype": "text/x-python",
   "name": "python",
   "nbconvert_exporter": "python",
   "pygments_lexer": "ipython3",
   "version": "3.10.6"
  },
  "orig_nbformat": 4
 },
 "nbformat": 4,
 "nbformat_minor": 2
}
